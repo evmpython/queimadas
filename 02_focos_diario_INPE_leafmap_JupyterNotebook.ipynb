{
 "cells": [
  {
   "cell_type": "markdown",
   "id": "2e857c79-fbcc-43b3-b294-44c737fed0eb",
   "metadata": {
    "jp-MarkdownHeadingCollapsed": true
   },
   "source": [
    "# Objetivo:\n",
    "- Plotar ocorrências de focos de calor fornecidos pelo INPE num mapa interativo usando o [Leafmap](https://leafmap.org/)\n",
    "- O `leafmap` é um pacote relativamente novo, versátil e amigável para mapeamento interativo de dados em Python. Desenvolvido por Qiusheng Wu como um derivado do pacote `geemap`, usado exclusivamente no contexto do **Google Earth Engine**, o `leafmap` oferece uma sintaxe simples que permite a criação de mapas interativos de forma eficiente através da integração com outros pacotes como `Folium` e `ipyleaflet`. Antes de mais nada, vamos importá-lo:\n",
    "\n",
    "# Acesso aos dados:\n",
    "- Focos de calor: https://dataserver-coids.inpe.br/queimadas/queimadas/focos/csv/\n",
    "- Geojson dos municípios do Brasil: https://github.com/tbrugz/geodata-br\n",
    "- Geojson do contorno de cada estado num arquivo: https://github.com/codeforgermany/click_that_hood/blob/main/public/data/brazil-states.geojson\n",
    "- Geojson do contorno de cada estado em arquivos separados: https://github.com/giuliano-macedo/geodata-br-states/blob/main/geojson/br_states/"
   ]
  },
  {
   "cell_type": "markdown",
   "id": "c43ea389-7d4b-49ba-8e76-a51a6a7783ab",
   "metadata": {
    "jp-MarkdownHeadingCollapsed": true
   },
   "source": [
    "# Carregando os dados"
   ]
  },
  {
   "cell_type": "code",
   "execution_count": null,
   "id": "d6918db4-f5e2-4134-8710-a72b26c08474",
   "metadata": {},
   "outputs": [],
   "source": [
    "%%time\n",
    "# Importa bibliotecas\n",
    "from datetime import datetime, timedelta, date\n",
    "import datetime\n",
    "import pandas as pd\n",
    "\n",
    "# URL dos dados do INPE\n",
    "url_diario = 'https://dataserver-coids.inpe.br/queimadas/queimadas/focos/csv/diario/Brasil/'\n",
    "\n",
    "# Loop nos dias\n",
    "df = pd.DataFrame()\n",
    "anos, meses, dias = [], [], []\n",
    "for i in range(8):\n",
    "\n",
    "    # gera as datas\n",
    "    data = datetime.datetime.now() - timedelta(days=i)\n",
    "    ano, mes, dia = date.strftime(data,'%Y'), date.strftime(data,'%m'), date.strftime(data,'%d')\n",
    "    anos.append(ano)\n",
    "    meses.append(mes)\n",
    "    dias.append(dia)\n",
    "\n",
    "    # leitura dos dados\n",
    "    df0 = pd.read_csv(f'{url_diario}focos_diario_br_{ano}{mes}{dia}.csv')\n",
    "\n",
    "    # junta a tabela que foi lida com a anterior\n",
    "    df = pd.concat([df, df0], ignore_index=True)\n",
    "\n",
    "# seleciona os focos de Minas Gerais\n",
    "df_mg = df[df['estado']=='MINAS GERAIS']\n",
    "\n",
    "# mostra os dados\n",
    "df_mg "
   ]
  },
  {
   "cell_type": "markdown",
   "id": "7259f79e-7e7e-4ab1-b1b1-574d1c724c23",
   "metadata": {
    "jp-MarkdownHeadingCollapsed": true
   },
   "source": [
    "# Mapa: em forma de `Pontos`"
   ]
  },
  {
   "cell_type": "code",
   "execution_count": null,
   "id": "e7b6c22d-3858-44a3-9b11-c69088f61c49",
   "metadata": {},
   "outputs": [],
   "source": [
    "# importa biblioteca\n",
    "import leafmap.leafmap as leafmap\n",
    "\n",
    "# configuração do mapa\n",
    "Map = leafmap.Map(center=(-15, -60), zoom=4)\n",
    "\n",
    "# adiciona mapa de fundo\n",
    "Map.add_basemap('HYBRID')\n",
    "\n",
    "# plota os dados\n",
    "Map.add_xy_data(df_mg, x=\"lon\", y=\"lat\")\n",
    "\n",
    "# adiciona contorno dos municípios do Brasil no mapa\n",
    "shp_mg = 'https://raw.githubusercontent.com/tbrugz/geodata-br/master/geojson/geojs-31-mun.json'\n",
    "Map.add_geojson(shp_mg, layer_name=\"Munícipios de MG\")\n",
    "\n",
    "# exibe o mapa\n",
    "Map"
   ]
  },
  {
   "cell_type": "code",
   "execution_count": null,
   "id": "aa0dc930-1a42-4934-aa71-43fa5b1ffe0d",
   "metadata": {},
   "outputs": [],
   "source": [
    "# salva imagem para HTML\n",
    "Map.to_html(\"map_pontos.html\")"
   ]
  },
  {
   "cell_type": "markdown",
   "id": "ff28a177-4aef-4f62-b50c-dfbf8e948220",
   "metadata": {
    "jp-MarkdownHeadingCollapsed": true
   },
   "source": [
    "# Mapa: em forma de `Markers`"
   ]
  },
  {
   "cell_type": "code",
   "execution_count": null,
   "id": "2e35efa4-3656-4ff7-a0c1-4b384830f267",
   "metadata": {},
   "outputs": [],
   "source": [
    "# importa biblioteca\n",
    "import leafmap.leafmap as leafmap\n",
    "\n",
    "# configuração do mapa\n",
    "Map = leafmap.Map(center=(-15, -60), zoom=4)\n",
    "\n",
    "# adiciona mapa de fundo\n",
    "Map.add_basemap('HYBRID')\n",
    "\n",
    "# plota os dados\n",
    "Map.add_circle_markers_from_xy(df_mg,\n",
    "                               x=\"lon\",\n",
    "                               y=\"lat\", \n",
    "                               radius=2, \n",
    "                               color=\"red\",\n",
    "                               fill=True,\n",
    "                               fill_color=\"red\",\n",
    "                               fill_opacity=1)\n",
    "\n",
    "# adiciona contorno dos estados\n",
    "shp_estados_brasil = 'https://github.com/codeforgermany/click_that_hood/blob/main/public/data/brazil-states.geojson'\n",
    "Map.add_geojson(shp_estados_brasil, layer_name=\"Estados do Brasil\")\n",
    "\n",
    "# exibe o mapa\n",
    "Map"
   ]
  },
  {
   "cell_type": "code",
   "execution_count": null,
   "id": "0fb9ba22-99f2-4ce4-9a56-53c3ac11784d",
   "metadata": {},
   "outputs": [],
   "source": [
    "# salva imagem para HTML\n",
    "Map.to_html(\"map_Markers.html\")"
   ]
  },
  {
   "cell_type": "markdown",
   "id": "dd65c41a-96a2-45fa-ba6a-d76b1cc1082f",
   "metadata": {
    "jp-MarkdownHeadingCollapsed": true
   },
   "source": [
    "# Mapa: em forma de `Heatmap`"
   ]
  },
  {
   "cell_type": "markdown",
   "id": "f5b91549-b2fc-41de-ac8a-fde2ee1c2774",
   "metadata": {
    "jp-MarkdownHeadingCollapsed": true
   },
   "source": [
    "## Leitura do dado anual do INPE"
   ]
  },
  {
   "cell_type": "code",
   "execution_count": 180,
   "id": "ec2c886e-b44f-4b56-858c-eb68b4db5634",
   "metadata": {},
   "outputs": [
    {
     "name": "stdout",
     "output_type": "stream",
     "text": [
      "CPU times: total: 594 ms\n",
      "Wall time: 1.79 s\n"
     ]
    },
    {
     "data": {
      "text/html": [
       "<div>\n",
       "<style scoped>\n",
       "    .dataframe tbody tr th:only-of-type {\n",
       "        vertical-align: middle;\n",
       "    }\n",
       "\n",
       "    .dataframe tbody tr th {\n",
       "        vertical-align: top;\n",
       "    }\n",
       "\n",
       "    .dataframe thead th {\n",
       "        text-align: right;\n",
       "    }\n",
       "</style>\n",
       "<table border=\"1\" class=\"dataframe\">\n",
       "  <thead>\n",
       "    <tr style=\"text-align: right;\">\n",
       "      <th></th>\n",
       "      <th>latitude</th>\n",
       "      <th>longitude</th>\n",
       "      <th>data_pas</th>\n",
       "      <th>count</th>\n",
       "    </tr>\n",
       "  </thead>\n",
       "  <tbody>\n",
       "    <tr>\n",
       "      <th>0</th>\n",
       "      <td>-3.650</td>\n",
       "      <td>-54.732</td>\n",
       "      <td>2020-06-16 17:00:00</td>\n",
       "      <td>1</td>\n",
       "    </tr>\n",
       "    <tr>\n",
       "      <th>1</th>\n",
       "      <td>-4.128</td>\n",
       "      <td>-47.074</td>\n",
       "      <td>2020-06-16 17:00:00</td>\n",
       "      <td>1</td>\n",
       "    </tr>\n",
       "    <tr>\n",
       "      <th>2</th>\n",
       "      <td>-10.513</td>\n",
       "      <td>-53.483</td>\n",
       "      <td>2020-06-16 16:55:00</td>\n",
       "      <td>1</td>\n",
       "    </tr>\n",
       "    <tr>\n",
       "      <th>3</th>\n",
       "      <td>-10.504</td>\n",
       "      <td>-53.498</td>\n",
       "      <td>2020-06-16 16:55:00</td>\n",
       "      <td>1</td>\n",
       "    </tr>\n",
       "    <tr>\n",
       "      <th>4</th>\n",
       "      <td>-10.494</td>\n",
       "      <td>-46.488</td>\n",
       "      <td>2020-06-16 16:55:00</td>\n",
       "      <td>1</td>\n",
       "    </tr>\n",
       "    <tr>\n",
       "      <th>...</th>\n",
       "      <td>...</td>\n",
       "      <td>...</td>\n",
       "      <td>...</td>\n",
       "      <td>...</td>\n",
       "    </tr>\n",
       "    <tr>\n",
       "      <th>222792</th>\n",
       "      <td>-23.163</td>\n",
       "      <td>-49.164</td>\n",
       "      <td>2020-10-02 17:15:00</td>\n",
       "      <td>1</td>\n",
       "    </tr>\n",
       "    <tr>\n",
       "      <th>222793</th>\n",
       "      <td>-9.558</td>\n",
       "      <td>-66.777</td>\n",
       "      <td>2020-10-13 18:40:00</td>\n",
       "      <td>1</td>\n",
       "    </tr>\n",
       "    <tr>\n",
       "      <th>222794</th>\n",
       "      <td>-21.691</td>\n",
       "      <td>-44.016</td>\n",
       "      <td>2020-10-13 17:00:00</td>\n",
       "      <td>1</td>\n",
       "    </tr>\n",
       "    <tr>\n",
       "      <th>222795</th>\n",
       "      <td>-16.451</td>\n",
       "      <td>-46.062</td>\n",
       "      <td>2020-10-13 17:00:00</td>\n",
       "      <td>1</td>\n",
       "    </tr>\n",
       "    <tr>\n",
       "      <th>222796</th>\n",
       "      <td>-6.645</td>\n",
       "      <td>-41.353</td>\n",
       "      <td>2020-10-13 17:05:00</td>\n",
       "      <td>1</td>\n",
       "    </tr>\n",
       "  </tbody>\n",
       "</table>\n",
       "<p>222797 rows × 4 columns</p>\n",
       "</div>"
      ],
      "text/plain": [
       "        latitude  longitude             data_pas  count\n",
       "0         -3.650    -54.732  2020-06-16 17:00:00      1\n",
       "1         -4.128    -47.074  2020-06-16 17:00:00      1\n",
       "2        -10.513    -53.483  2020-06-16 16:55:00      1\n",
       "3        -10.504    -53.498  2020-06-16 16:55:00      1\n",
       "4        -10.494    -46.488  2020-06-16 16:55:00      1\n",
       "...          ...        ...                  ...    ...\n",
       "222792   -23.163    -49.164  2020-10-02 17:15:00      1\n",
       "222793    -9.558    -66.777  2020-10-13 18:40:00      1\n",
       "222794   -21.691    -44.016  2020-10-13 17:00:00      1\n",
       "222795   -16.451    -46.062  2020-10-13 17:00:00      1\n",
       "222796    -6.645    -41.353  2020-10-13 17:05:00      1\n",
       "\n",
       "[222797 rows x 4 columns]"
      ]
     },
     "execution_count": 180,
     "metadata": {},
     "output_type": "execute_result"
    }
   ],
   "source": [
    "%%time\n",
    "# Importa bibliotecas\n",
    "from datetime import datetime, timedelta, date\n",
    "import datetime\n",
    "import pandas as pd\n",
    "\n",
    "# URL dos dados mensais do INPE\n",
    "url_mensal = 'https://dataserver-coids.inpe.br/queimadas/queimadas/focos/csv/anual/Brasil_sat_ref/'\n",
    "\n",
    "# nome do arquivo\n",
    "filename = 'focos_br_ref_2020.zip'\n",
    "\n",
    "# leitura dos dados\n",
    "df = pd.read_csv(f'{url_mensal}{filename}', compression='zip', usecols=['lat','lon','data_pas'])\n",
    "\n",
    "# renomeia algumas colunas\n",
    "df.rename(columns={'lat': 'latitude', 'lon': 'longitude'}, inplace=True)\n",
    "\n",
    "# cria uma coluna como valor um para cada ocorrência de foco de calor\n",
    "df['count'] = 1\n",
    "\n",
    "# mostra os dados\n",
    "df"
   ]
  },
  {
   "cell_type": "markdown",
   "id": "85c303ff-8694-452a-9a84-95ebc710c8dc",
   "metadata": {
    "jp-MarkdownHeadingCollapsed": true
   },
   "source": [
    "## Plota mapa"
   ]
  },
  {
   "cell_type": "code",
   "execution_count": 181,
   "id": "4e3a4dcc-abc1-4cda-b117-0b69b0c9a49c",
   "metadata": {},
   "outputs": [
    {
     "data": {
      "application/vnd.jupyter.widget-view+json": {
       "model_id": "eb496e4ce67543afbcf96b2cfd971e49",
       "version_major": 2,
       "version_minor": 0
      },
      "text/plain": [
       "Map(center=[-15, -60], controls=(ZoomControl(options=['position', 'zoom_in_text', 'zoom_in_title', 'zoom_out_t…"
      ]
     },
     "execution_count": 181,
     "metadata": {},
     "output_type": "execute_result"
    }
   ],
   "source": [
    "# importa biblioteca\n",
    "import leafmap.leafmap as leafmap\n",
    "\n",
    "# configuração do mapa\n",
    "Map = leafmap.Map(center=(-15, -60), zoom=4)\n",
    "\n",
    "# adiciona mapa de fundo\n",
    "Map.add_basemap('HYBRID')\n",
    "\n",
    "# plota os dados\n",
    "Map.add_heatmap(df,\n",
    "                x=\"longitude\",\n",
    "                y=\"latitude\",\n",
    "                value=\"count\",\n",
    "                name=\"Heat map\",\n",
    "                radius=20)\n",
    "\n",
    "# adiciona contorno dos estados\n",
    "shp_estados_brasil = 'https://github.com/codeforgermany/click_that_hood/blob/main/public/data/brazil-states.geojson'\n",
    "Map.add_geojson(shp_estados_brasil, layer_name=\"Estados do Brasil\")\n",
    "\n",
    "# exibe o mapa\n",
    "Map"
   ]
  },
  {
   "cell_type": "code",
   "execution_count": null,
   "id": "58c6a1f9-071d-43a4-8392-fb3adc594aea",
   "metadata": {},
   "outputs": [],
   "source": [
    "# salva imagem para HTML\n",
    "Map.to_html(\"map_heatmap.html\")"
   ]
  },
  {
   "cell_type": "markdown",
   "id": "6043e781-832b-4f07-b59c-d3868b13e004",
   "metadata": {},
   "source": [
    "# Mapa: para os últimos 7 dias da semana"
   ]
  },
  {
   "cell_type": "markdown",
   "id": "ec25a940-ac0f-4f40-83ea-c28f89a6d792",
   "metadata": {},
   "source": [
    "## Processando os dados"
   ]
  },
  {
   "cell_type": "code",
   "execution_count": 195,
   "id": "e35066ee-36cb-44a4-ba33-31750a314ce0",
   "metadata": {},
   "outputs": [
    {
     "name": "stdout",
     "output_type": "stream",
     "text": [
      "CPU times: total: 219 ms\n",
      "Wall time: 2.33 s\n"
     ]
    },
    {
     "data": {
      "text/html": [
       "<div>\n",
       "<style scoped>\n",
       "    .dataframe tbody tr th:only-of-type {\n",
       "        vertical-align: middle;\n",
       "    }\n",
       "\n",
       "    .dataframe tbody tr th {\n",
       "        vertical-align: top;\n",
       "    }\n",
       "\n",
       "    .dataframe thead th {\n",
       "        text-align: right;\n",
       "    }\n",
       "</style>\n",
       "<table border=\"1\" class=\"dataframe\">\n",
       "  <thead>\n",
       "    <tr style=\"text-align: right;\">\n",
       "      <th></th>\n",
       "      <th>Latitude</th>\n",
       "      <th>Longitude</th>\n",
       "      <th>Satélite</th>\n",
       "      <th>Município</th>\n",
       "      <th>Estado</th>\n",
       "      <th>Data</th>\n",
       "    </tr>\n",
       "  </thead>\n",
       "  <tbody>\n",
       "    <tr>\n",
       "      <th>61201</th>\n",
       "      <td>-19.65274</td>\n",
       "      <td>-41.24707</td>\n",
       "      <td>AQUA_M-T</td>\n",
       "      <td>AIMORÉS</td>\n",
       "      <td>MINAS GERAIS</td>\n",
       "      <td>2024-06-29</td>\n",
       "    </tr>\n",
       "    <tr>\n",
       "      <th>61195</th>\n",
       "      <td>-21.19496</td>\n",
       "      <td>-43.84349</td>\n",
       "      <td>AQUA_M-T</td>\n",
       "      <td>BARBACENA</td>\n",
       "      <td>MINAS GERAIS</td>\n",
       "      <td>2024-06-29</td>\n",
       "    </tr>\n",
       "    <tr>\n",
       "      <th>61193</th>\n",
       "      <td>-20.57470</td>\n",
       "      <td>-44.86234</td>\n",
       "      <td>AQUA_M-T</td>\n",
       "      <td>CARMO DA MATA</td>\n",
       "      <td>MINAS GERAIS</td>\n",
       "      <td>2024-06-29</td>\n",
       "    </tr>\n",
       "    <tr>\n",
       "      <th>61191</th>\n",
       "      <td>-20.57077</td>\n",
       "      <td>-44.85529</td>\n",
       "      <td>AQUA_M-T</td>\n",
       "      <td>CARMO DA MATA</td>\n",
       "      <td>MINAS GERAIS</td>\n",
       "      <td>2024-06-29</td>\n",
       "    </tr>\n",
       "    <tr>\n",
       "      <th>61185</th>\n",
       "      <td>-17.91201</td>\n",
       "      <td>-42.55101</td>\n",
       "      <td>AQUA_M-T</td>\n",
       "      <td>ARICANDUVA</td>\n",
       "      <td>MINAS GERAIS</td>\n",
       "      <td>2024-06-29</td>\n",
       "    </tr>\n",
       "    <tr>\n",
       "      <th>...</th>\n",
       "      <td>...</td>\n",
       "      <td>...</td>\n",
       "      <td>...</td>\n",
       "      <td>...</td>\n",
       "      <td>...</td>\n",
       "      <td>...</td>\n",
       "    </tr>\n",
       "    <tr>\n",
       "      <th>4412</th>\n",
       "      <td>-20.63366</td>\n",
       "      <td>-43.16493</td>\n",
       "      <td>AQUA_M-T</td>\n",
       "      <td>PORTO FIRME</td>\n",
       "      <td>MINAS GERAIS</td>\n",
       "      <td>2024-07-06</td>\n",
       "    </tr>\n",
       "    <tr>\n",
       "      <th>4409</th>\n",
       "      <td>-16.58091</td>\n",
       "      <td>-42.40510</td>\n",
       "      <td>AQUA_M-T</td>\n",
       "      <td>VIRGEM DA LAPA</td>\n",
       "      <td>MINAS GERAIS</td>\n",
       "      <td>2024-07-06</td>\n",
       "    </tr>\n",
       "    <tr>\n",
       "      <th>4404</th>\n",
       "      <td>-20.63984</td>\n",
       "      <td>-43.15705</td>\n",
       "      <td>AQUA_M-T</td>\n",
       "      <td>PORTO FIRME</td>\n",
       "      <td>MINAS GERAIS</td>\n",
       "      <td>2024-07-06</td>\n",
       "    </tr>\n",
       "    <tr>\n",
       "      <th>4419</th>\n",
       "      <td>-15.71770</td>\n",
       "      <td>-41.02919</td>\n",
       "      <td>AQUA_M-T</td>\n",
       "      <td>DIVISÓPOLIS</td>\n",
       "      <td>MINAS GERAIS</td>\n",
       "      <td>2024-07-06</td>\n",
       "    </tr>\n",
       "    <tr>\n",
       "      <th>4420</th>\n",
       "      <td>-15.66480</td>\n",
       "      <td>-41.61570</td>\n",
       "      <td>AQUA_M-T</td>\n",
       "      <td>ÁGUAS VERMELHAS</td>\n",
       "      <td>MINAS GERAIS</td>\n",
       "      <td>2024-07-06</td>\n",
       "    </tr>\n",
       "  </tbody>\n",
       "</table>\n",
       "<p>171 rows × 6 columns</p>\n",
       "</div>"
      ],
      "text/plain": [
       "       Latitude  Longitude  Satélite        Município        Estado  \\\n",
       "61201 -19.65274  -41.24707  AQUA_M-T          AIMORÉS  MINAS GERAIS   \n",
       "61195 -21.19496  -43.84349  AQUA_M-T        BARBACENA  MINAS GERAIS   \n",
       "61193 -20.57470  -44.86234  AQUA_M-T    CARMO DA MATA  MINAS GERAIS   \n",
       "61191 -20.57077  -44.85529  AQUA_M-T    CARMO DA MATA  MINAS GERAIS   \n",
       "61185 -17.91201  -42.55101  AQUA_M-T       ARICANDUVA  MINAS GERAIS   \n",
       "...         ...        ...       ...              ...           ...   \n",
       "4412  -20.63366  -43.16493  AQUA_M-T      PORTO FIRME  MINAS GERAIS   \n",
       "4409  -16.58091  -42.40510  AQUA_M-T   VIRGEM DA LAPA  MINAS GERAIS   \n",
       "4404  -20.63984  -43.15705  AQUA_M-T      PORTO FIRME  MINAS GERAIS   \n",
       "4419  -15.71770  -41.02919  AQUA_M-T      DIVISÓPOLIS  MINAS GERAIS   \n",
       "4420  -15.66480  -41.61570  AQUA_M-T  ÁGUAS VERMELHAS  MINAS GERAIS   \n",
       "\n",
       "             Data  \n",
       "61201  2024-06-29  \n",
       "61195  2024-06-29  \n",
       "61193  2024-06-29  \n",
       "61191  2024-06-29  \n",
       "61185  2024-06-29  \n",
       "...           ...  \n",
       "4412   2024-07-06  \n",
       "4409   2024-07-06  \n",
       "4404   2024-07-06  \n",
       "4419   2024-07-06  \n",
       "4420   2024-07-06  \n",
       "\n",
       "[171 rows x 6 columns]"
      ]
     },
     "execution_count": 195,
     "metadata": {},
     "output_type": "execute_result"
    }
   ],
   "source": [
    "%%time\n",
    "# Importa bibliotecas\n",
    "from datetime import datetime, timedelta, date\n",
    "import datetime\n",
    "import pandas as pd\n",
    "\n",
    "# URL dos dados do INPE\n",
    "url_diario = 'https://dataserver-coids.inpe.br/queimadas/queimadas/focos/csv/diario/Brasil/'\n",
    "\n",
    "# Loop nos dias\n",
    "df = pd.DataFrame()\n",
    "anos, meses, dias, ano_mes_dia = [], [], [], []\n",
    "for i in range(8):\n",
    "\n",
    "    # gera as datas\n",
    "    data = datetime.datetime.now() - timedelta(days=i)\n",
    "    \n",
    "    ano, mes, dia = date.strftime(data,'%Y'), date.strftime(data,'%m'), date.strftime(data,'%d')\n",
    "    ano_mes_dia.append(f'{ano}-{mes}-{dia}')     \n",
    "    anos.append(ano)\n",
    "    meses.append(mes)\n",
    "    dias.append(dia)\n",
    "\n",
    "    # leitura dos dados\n",
    "    df0 = pd.read_csv(f'{url_diario}focos_diario_br_{ano}{mes}{dia}.csv', usecols=['data_hora_gmt','lat','lon','satelite','municipio','estado'])\n",
    "\n",
    "    # junta a tabela que foi lida com a anterior\n",
    "    df = pd.concat([df, df0], ignore_index=True)\n",
    "\n",
    "# ordena as datas\n",
    "ano_mes_dia=sorted(ano_mes_dia)\n",
    "\n",
    "# seleciona os focos de Minas Gerais e do Satélite AQUA\n",
    "df_mg = df[ (df['estado']=='MINAS GERAIS') & (df['satelite']=='AQUA_M-T') ]\n",
    "\n",
    "# transforma a data em índice\n",
    "df_mg['data_hora_gmt'] = pd.to_datetime(df_mg['data_hora_gmt']) # transformar a coluna 'acq_date' em formato datetime\n",
    "#df_mg.set_index('data_hora_gmt', inplace=True) # definir a coluna 'acq_date' como índice do DataFrame\n",
    "\n",
    "# ordena o dataframe\n",
    "#df_mg.sort_index(axis=0, inplace=True)\n",
    "df_mg.sort_values(by=['data_hora_gmt'], inplace=True)\n",
    "\n",
    "# cria a coluna com o ano, mês e dia\n",
    "df_mg['Data'] = df_mg['data_hora_gmt'].apply(lambda x: x.strftime('%Y-%m-%d'))\n",
    "\n",
    "# elimina algumas colunas\n",
    "df_mg.drop(columns=['data_hora_gmt'], inplace=True)\n",
    "\n",
    "# renomeia os nomes das colunas\n",
    "df_mg.rename(columns={'lat': 'Latitude', 'lon': 'Longitude', 'satelite': 'Satélite', 'municipio': 'Município','estado': 'Estado'}, inplace=True)\n",
    "\n",
    "# salva arquivo CSV\n",
    "df_mg.to_csv('focos_diario.csv', index=False)\n",
    "\n",
    "# mostra os dados\n",
    "df_mg"
   ]
  },
  {
   "cell_type": "markdown",
   "id": "afd5fe68-99e6-463f-99d1-82bdc9e6db00",
   "metadata": {},
   "source": [
    "## Plota mapa\n",
    "- The list of available icon names can be found at https://fontawesome.com/v4/icons."
   ]
  },
  {
   "cell_type": "code",
   "execution_count": 197,
   "id": "2e7e268f-c627-4716-b0aa-ace31d3fbca3",
   "metadata": {},
   "outputs": [
    {
     "data": {
      "application/vnd.jupyter.widget-view+json": {
       "model_id": "c791f33ddbfc4a5b8c6e260cf09508f5",
       "version_major": 2,
       "version_minor": 0
      },
      "text/plain": [
       "Map(center=[-18, -40], controls=(ZoomControl(options=['position', 'zoom_in_text', 'zoom_in_title', 'zoom_out_t…"
      ]
     },
     "execution_count": 197,
     "metadata": {},
     "output_type": "execute_result"
    }
   ],
   "source": [
    "# importa biblioteca\n",
    "import leafmap\n",
    "\n",
    "# configuração do mapa\n",
    "Map = leafmap.Map(center=(-18, -40), zoom=6.3)\n",
    "\n",
    "# adiciona mapa de fundo\n",
    "Map.add_basemap('HYBRID')\n",
    "\n",
    "# plota mapa\n",
    "Map.add_points_from_xy('focos_diario.csv',\n",
    "                       x=\"Longitude\",\n",
    "                       y=\"Latitude\",\n",
    "                       color_column=\"Data\",                       \n",
    "                       marker_colors=['lightgray', 'gray', 'blue', 'darkblue', 'green', 'darkgreen', 'red','darkred'],\n",
    "                       icon_colors=['lightgray', 'gray', 'blue', 'darkblue', 'green', 'darkgreen', 'red','darkred'],\n",
    "                       spin=False,\n",
    "                       add_legend=True,\n",
    "                       layer_name='Focos de Calor Diário')\n",
    "\n",
    "# adiciona contorno dos municípios do Brasil no mapa\n",
    "shp_mg = 'https://github.com/giuliano-macedo/geodata-br-states/blob/main/geojson/br_states/br_mg.json'\n",
    "Map.add_geojson(shp_mg, layer_name=\"Munícipios de MG\")\n",
    "\n",
    "# exibe o mapa\n",
    "Map"
   ]
  }
 ],
 "metadata": {
  "kernelspec": {
   "display_name": "Python 3 (ipykernel)",
   "language": "python",
   "name": "python3"
  },
  "language_info": {
   "codemirror_mode": {
    "name": "ipython",
    "version": 3
   },
   "file_extension": ".py",
   "mimetype": "text/x-python",
   "name": "python",
   "nbconvert_exporter": "python",
   "pygments_lexer": "ipython3",
   "version": "3.12.4"
  }
 },
 "nbformat": 4,
 "nbformat_minor": 5
}
